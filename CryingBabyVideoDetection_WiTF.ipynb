{
 "cells": [
  {
   "cell_type": "code",
   "execution_count": null,
   "metadata": {},
   "outputs": [],
   "source": [
    "### Detect the faces in the video and classify whether it is a crying baby\n",
    "import cv2\n",
    "import numpy as np\n",
    "import tensorflow as tf\n",
    "import detect_imgs_CryingBaby_RL as detface # import face_detector"
   ]
  },
  {
   "cell_type": "code",
   "execution_count": 2,
   "metadata": {},
   "outputs": [
    {
     "name": "stderr",
     "output_type": "stream",
     "text": [
      "WARNING: Logging before flag parsing goes to stderr.\n",
      "W1201 12:49:00.861091 140735969207168 deprecation.py:323] From /Users/ll/anaconda3/lib/python3.6/site-packages/tensorflow_core/python/ops/math_grad.py:1423: where (from tensorflow.python.ops.array_ops) is deprecated and will be removed in a future version.\n",
      "Instructions for updating:\n",
      "Use tf.where in 2.0, which has the same broadcast rule as np.where\n",
      "W1201 12:49:00.988350 140735969207168 deprecation.py:323] From /Users/ll/anaconda3/lib/python3.6/site-packages/tensorflow_core/python/keras/optimizer_v2/optimizer_v2.py:468: BaseResourceVariable.constraint (from tensorflow.python.ops.resource_variable_ops) is deprecated and will be removed in a future version.\n",
      "Instructions for updating:\n",
      "Apply a constraint manually following the optimizer update step.\n"
     ]
    },
    {
     "name": "stdout",
     "output_type": "stream",
     "text": [
      "(640, 480)\n",
      "No Video.\n"
     ]
    },
    {
     "data": {
      "text/plain": [
       "-1"
      ]
     },
     "execution_count": 2,
     "metadata": {},
     "output_type": "execute_result"
    }
   ],
   "source": [
    "# Load the best crying baby classifation model\n",
    "best_model_path = 'Model.epoch_119-val_acc_0.8795.h5'\n",
    "model = tf.keras.models.load_model(best_model_path)\n",
    "\n",
    "# Load the video\n",
    "file_path = \"baby1_640*480\"\n",
    "video_path = \"videos/\" + file_path + '.mp4'\n",
    "cap = cv2.VideoCapture(video_path)  # capture from video\n",
    "# cap = cv2.VideoCapture(0)  # capture from camera\n",
    "\n",
    "print((int(cap.get(3)), int(cap.get(4))))\n",
    "fourcc = cv2.VideoWriter_fourcc(*'MJPG')\n",
    "out = cv2.VideoWriter(\"videos/Result/Result_\"+ file_path + '.avi', fourcc, 20.0, (int(cap.get(3)), int(cap.get(4))))\n",
    "\n",
    "# Face detection and classification\n",
    "while True:\n",
    "    _, orig_image = cap.read()\n",
    "    if orig_image is None:\n",
    "        print(\"No Video.\")\n",
    "        break\n",
    "        \n",
    "    image = cv2.cvtColor(orig_image, cv2.COLOR_BGR2RGB)\n",
    "   \n",
    "    # Detect faces in video image, crop, and classify\n",
    "    \n",
    "    # Use CV2 Cascade to detect faces\n",
    "    #face_cascade = cv2.CascadeClassifier('haarcascade_frontalface_default.xml') \n",
    "    #faces = face_cascade.detectMultiScale(image, scaleFactor=1.08, minNeighbors=4, minSize=(30, 30))    \n",
    "    #if len(faces) > 0:\n",
    "    #  faces = (faces[:,0],faces[:,1],faces[:,0]+faces[:,2],faces[:,1]+faces[:,3])#Change from [x,y,w,h] to [xlt, ylt, xrb, yrb]\n",
    "    #   faces = np.transpose(np.hstack([faces]))\n",
    " \n",
    "    # Use Ultra Light Fast Generic Face Detector 1MB to detect faces\n",
    "    # https://github.com/Linzaer/Ultra-Light-Fast-Generic-Face-Detector-1MB\n",
    "    faces = detface.face_detector(image)\n",
    "    \n",
    "    for xlt,ylt,xrb,yrb in faces:\n",
    "        box = [xlt, ylt, xrb, yrb]\n",
    "        corners = np.rint(box).astype(int)\n",
    "        corners = np.maximum(corners, [0,0,0,0])\n",
    "        image_cut = image[corners[1]: corners[3], corners[0]: corners[2],:].copy() # Cut image to get faces\n",
    "        image_cut = cv2.resize(image_cut, (150, 150)) # Resize the image to (150,150)\n",
    "        image_cut = image_cut/255.    # Nomalize the image to (0,1)   \n",
    "        image_cut = np.expand_dims(image_cut, axis=0)\n",
    "        classes = model.predict(image_cut, batch_size=1) # Classify the image\n",
    "        \n",
    "        #Display the deteced boxes\n",
    "        cv2.rectangle(orig_image, (xlt, ylt), (xrb, yrb), (0, 255, 0), 4)\n",
    "        \n",
    "        #Display the classification results\n",
    "        if classes[0]<0.5:\n",
    "            cv2.putText(orig_image, \"Crying\",\n",
    "                    (xlt, ylt - 10),\n",
    "                     cv2.FONT_HERSHEY_SIMPLEX,\n",
    "                     fontScale = 1,  \n",
    "                     color = (0, 0, 255),\n",
    "                     thickness = 2)  \n",
    "        else:\n",
    "            cv2.putText(orig_image, \"Not Crying\",\n",
    "                    (xlt, ylt - 10),\n",
    "                     cv2.FONT_HERSHEY_SIMPLEX,\n",
    "                     fontScale = 1,  \n",
    "                     color = (255, 0, 0),\n",
    "                     thickness = 2)     \n",
    "    \n",
    "    # Save the processed video\n",
    "    out.write(orig_image) # Must have the same image size as in out definition\n",
    "    \n",
    "    # Show the processed video\n",
    "    orig_image = cv2.resize(orig_image, None, None, fx=0.8, fy=0.8)\n",
    "    cv2.imshow('annotated', orig_image)\n",
    "    if cv2.waitKey(1) & 0xFF == ord('q'): # Quit the show\n",
    "       break\n",
    "\n",
    "cap.release()\n",
    "out.release()\n",
    "\n",
    "# Close the video window\n",
    "cv2.startWindowThread()\n",
    "cv2.destroyAllWindows()\n",
    "cv2.waitKey(1)"
   ]
  }
 ],
 "metadata": {
  "kernelspec": {
   "display_name": "Python 3",
   "language": "python",
   "name": "python3"
  },
  "language_info": {
   "codemirror_mode": {
    "name": "ipython",
    "version": 3
   },
   "file_extension": ".py",
   "mimetype": "text/x-python",
   "name": "python",
   "nbconvert_exporter": "python",
   "pygments_lexer": "ipython3",
   "version": "3.6.8"
  }
 },
 "nbformat": 4,
 "nbformat_minor": 2
}
