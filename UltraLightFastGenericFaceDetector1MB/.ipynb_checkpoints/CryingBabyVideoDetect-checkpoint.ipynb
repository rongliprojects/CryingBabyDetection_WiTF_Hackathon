{
 "cells": [
  {
   "cell_type": "code",
   "execution_count": 2,
   "metadata": {},
   "outputs": [
    {
     "data": {
      "text/plain": [
       "-1"
      ]
     },
     "execution_count": 2,
     "metadata": {},
     "output_type": "execute_result"
    }
   ],
   "source": [
    "import cv2\n",
    "import numpy as np\n",
    "import tensorflow as tf\n",
    "from detect_imgs_RL import face_detector\n",
    "best_model_path = 'CNNmodel_82.h5'#'../SavedModel_lr-1e-3/Model.epoch_154-val_acc_0.8393.h5'\n",
    "model = tf.keras.models.load_model(best_model_path)\n",
    "\n",
    "file_path= \"1024290770-preview.mp4\"#\"video (2).mp4\"#\"baby1-hevcmp4.mp4\" #Rong Li\n",
    "video_path = \"videos/\" + file_path\n",
    "cap = cv2.VideoCapture(video_path)  # capture from video\n",
    "# cap = cv2.VideoCapture(0)  # capture from camera\n",
    "\n",
    "while True:\n",
    "    ret, orig_image = cap.read()\n",
    "    if orig_image is None:\n",
    "        print(\"end\")\n",
    "        break\n",
    "    image = cv2.cvtColor(orig_image, cv2.COLOR_BGR2RGB)\n",
    "   \n",
    "    # Detect face in video image, crop it\n",
    "    \n",
    "    # Use CV2 Cascade to detect faces\n",
    "    #face_cascade = cv2.CascadeClassifier('haarcascade_frontalface_default.xml') \n",
    "    #faces = face_cascade.detectMultiScale(image, scaleFactor=1.3, minNeighbors=4, minSize=(30, 30))    \n",
    "    #faces_box = (faces[:,0],faces[:,1],faces[:,0]+faces[:,2],faces[:,1]+faces[:,3])#Change from [x,y,w,h] to [xlt, ylt, xrb, yrb]\n",
    "    #faces_box = np.transpose(np.hstack([faces_box]))\n",
    "    \n",
    "    # Use Ultra Light Fast Generic Face Detector 1MB to detect faces\n",
    "    # https://github.com/Linzaer/Ultra-Light-Fast-Generic-Face-Detector-1MB\n",
    "    faces = face_detector(image)\n",
    "    \n",
    "    for xlt,ylt,xrb,yrb in faces:\n",
    "        box = [xlt, ylt, xrb, yrb]\n",
    "        \n",
    "        corners = np.rint(box).astype(int)\n",
    "        corners = np.maximum(corners, [0,0,0,0])\n",
    "        image_cut = image[corners[1]: corners[3], corners[0]: corners[2],:].copy()\n",
    "        image_cut = cv2.resize(image_cut, (150, 150))\n",
    "        image_cut = image_cut/255.    #Nomalize the image to (0,1)   \n",
    "        image_cut = np.expand_dims(image_cut, axis=0)\n",
    "        classes = model.predict(image_cut, batch_size=1)\n",
    "        \n",
    "        #Display the deteced boxes\n",
    "        cv2.rectangle(orig_image, (xlt, ylt), (xrb, yrb), (0, 255, 0), 4)\n",
    "        #Display the classification results\n",
    "        if classes[0]<0.5:\n",
    "            cv2.putText(orig_image, \"Crying\",\n",
    "                    (xlt, ylt - 10),\n",
    "                     cv2.FONT_HERSHEY_SIMPLEX,\n",
    "                     fontScale = 1,  # font scale\n",
    "                     color = (0, 0, 255),\n",
    "                     thickness = 5)  # line type\n",
    "        else:\n",
    "            cv2.putText(orig_image, \"Not Crying\",\n",
    "                    (xlt, ylt - 10),\n",
    "                     cv2.FONT_HERSHEY_SIMPLEX,\n",
    "                     fontScale = 1,  # font scale\n",
    "                     color = (255, 0, 0),\n",
    "                     thickness = 5)  # line type\n",
    "    \n",
    "    # Show the processed video\n",
    "    orig_image = cv2.resize(orig_image, None, None, fx=0.8, fy=0.8)\n",
    "    cv2.imshow('annotated', orig_image)\n",
    "    if cv2.waitKey(1) & 0xFF == ord('q'): # Quit the show\n",
    "       break\n",
    "cap.release()\n",
    "\n",
    "# Close the video window\n",
    "cv2.startWindowThread()\n",
    "cv2.destroyAllWindows()\n",
    "cv2.waitKey(1)"
   ]
  }
 ],
 "metadata": {
  "kernelspec": {
   "display_name": "Python 3",
   "language": "python",
   "name": "python3"
  },
  "language_info": {
   "codemirror_mode": {
    "name": "ipython",
    "version": 3
   },
   "file_extension": ".py",
   "mimetype": "text/x-python",
   "name": "python",
   "nbconvert_exporter": "python",
   "pygments_lexer": "ipython3",
   "version": "3.6.8"
  }
 },
 "nbformat": 4,
 "nbformat_minor": 2
}
